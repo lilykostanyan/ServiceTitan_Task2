{
 "cells": [
  {
   "cell_type": "markdown",
   "id": "51632050",
   "metadata": {},
   "source": [
    "## RAG System Performance Analysis — ServiceTitan Internship"
   ]
  }
 ],
 "metadata": {
  "language_info": {
   "name": "python"
  }
 },
 "nbformat": 4,
 "nbformat_minor": 5
}
